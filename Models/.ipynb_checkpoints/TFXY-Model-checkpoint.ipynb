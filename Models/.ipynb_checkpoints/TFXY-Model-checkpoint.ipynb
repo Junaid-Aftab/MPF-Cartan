{
 "cells": [
  {
   "cell_type": "markdown",
   "id": "a8192e9e-a3b2-4ab9-aa33-1bc4c16a4eab",
   "metadata": {},
   "source": [
    "# Simulation of the $XY$ Transverse Field Ising Model with a Random $Z$ Field\n",
    "\n",
    "In this notebook, we simulate the $XY$ transverse field Ising model with a random $Z$ field. \n",
    "\n",
    "* Our initial objective is to reproduce the results presented in Figure 4 of [arXiv:2104.00728](https://arxiv.org/pdf/2104.00728).\n",
    "* Subsequently, we utilize the ansatz based on the multi-product formula to conduct a comparative analysis for our project.\n",
    "\n",
    "We start by importing necessary libraries etc."
   ]
  },
  {
   "cell_type": "code",
   "execution_count": 1,
   "id": "098d5336-12e7-4c93-9ac9-53e7b891760a",
   "metadata": {},
   "outputs": [],
   "source": [
    "# Importing necessary packages\n",
    "# - `numpy` for numerical operations\n",
    "# - `matplotlib` for plotting\n",
    "# - `sys` for system-related functions\n",
    "# - `time` for recording time\n",
    "# - `qiskit` for quantum simulations\n",
    "\n",
    "import numpy as np\n",
    "import matplotlib.pyplot as plt\n",
    "import sys\n",
    "import time\n",
    "import qiskit\n",
    "\n",
    "from qiskit.quantum_info import Pauli, Statevector, SparsePauliOp\n",
    "from qiskit import QuantumCircuit\n",
    "from qiskit.circuit.library import PauliEvolutionGate\n",
    "from qiskit.transpiler.passes import Decompose\n",
    "\n",
    "### WARNING: COPY YOUR DIRECTORY'S PATH BELOW BEFORE RUNNING CODE ON YOUR LOCAL MACHINE  ###\n",
    "sys.path.append(\"/Users/junaida/Documents/MPF-Cartan/\")\n",
    "\n",
    "from Cartan_Decomposition import cartan"
   ]
  },
  {
   "cell_type": "markdown",
   "id": "28b2ebed-0204-4064-b367-8683eb1b259e",
   "metadata": {},
   "source": [
    "## Cartan Decomposition of Hamiltonian\n",
    "\n",
    "We generate the Cartan decomposition of the Hamiltonian corresponding to the transverse field XY model with a random Z field, as described in [arXiv:2104.00728](https://arxiv.org/pdf/2104.00728). The three steps of the algorithm are implemented sequentially.\n",
    "\n",
    "### 1) Generate Hamiltonian:\n",
    "We define a function, `gen_hamiltonian`, to generate the Hamiltonian for the transverse field XY model with a random Z field. The `gen_hamiltonian` function takes the following as input: \n",
    "\n",
    "* `num_qubits`: Number of qubits.  \n",
    "* `mean`: Mean of normal distribution.\n",
    "* `std_deviation`: Standard deviation of normal distribution.  \n",
    "\n",
    "`gen_hamiltonian` returns a class representing the Hamiltonian for the transverse field XY model with a random Z field."
   ]
  },
  {
   "cell_type": "code",
   "execution_count": 2,
   "id": "d56f5769-289b-45d5-8c7f-d8b3c3041f49",
   "metadata": {},
   "outputs": [],
   "source": [
    "#The function below assumes that the that the XY model with a random Z field is to be generated.\n",
    "\n",
    "model = 'tfxy' # This will be used to generate the Hamiltonian of the form XXII + YYII + a_1*ZIII + ...\n",
    "\n",
    "def gen_hamiltonian(num_qubits, mean, std_deviation):\n",
    "    \n",
    "    random_coeffs = [np.random.normal(mean, std_deviation) for i in range(num_qubits)]\n",
    "    coefficients = random_coeffs + [1]*2*(num_qubits-1)\n",
    "    modelTuple = [(coefficients, model)]\n",
    "    \n",
    "    tfxyH = cartan.Hamiltonian(num_qubits, name=modelTuple)\n",
    "    \n",
    "    return tfxyH"
   ]
  },
  {
   "cell_type": "markdown",
   "id": "a2fe488d-ac1c-4c7d-abc3-0abd35eecb70",
   "metadata": {},
   "source": [
    "### 2) Cartan Decomposition\n",
    "\n",
    "We now define two functions that compute the Cartan decomposition of the Hamiltonian algebra.\n",
    "\n",
    "* `pile` implements the simplification of the $k$-algebra in Cartan decomposition for the $XY$ transverse field Ising model as introduced in [arXiv:2104.00728](https://arxiv.org/pdf/2104.00728). We will make use of this function below.\n",
    "* `decompose_Cartan` implements the Cartan decomposition and returns the Cartan decomposition of the Hamiltonian. Note that `decompose_Cartan` assumes the `CountY` involution can indeed be applied. Additional functionality will be incorporated in future updates."
   ]
  },
  {
   "cell_type": "code",
   "execution_count": 3,
   "id": "9a7eba89-93c6-4619-8e82-8f103c17e427",
   "metadata": {},
   "outputs": [],
   "source": [
    "def pile(N):\n",
    "    k = []\n",
    "    for i in range(N-1):\n",
    "        for j in range(N-i-1):\n",
    "            elem = (0,)*j+(2,1)+(0,)*(N-j-2)\n",
    "            k.append(elem)\n",
    "            \n",
    "            elem = (0,)*j+(1,2)+(0,)*(N-j-2)\n",
    "            k.append(elem)\n",
    "    return k\n",
    "\n",
    "#Warning: the function below implements the CountY involution under the assumption that it can indeed be implemeneted.\n",
    "#Add more functionality later on.\n",
    "\n",
    "def decompose_Cartan(num_qubits, mean, std_deviation):\n",
    "    \n",
    "    tfxyH = gen_hamiltonian(num_qubits, mean, std_deviation)\n",
    "    tfxyC = cartan.Cartan(tfxyH, involution='countY')\n",
    "\n",
    "    #Simplified k algebra\n",
    "    tfxyC.k = pile(num_qubits)\n",
    "\n",
    "    return tfxyC"
   ]
  },
  {
   "cell_type": "markdown",
   "id": "f8cdb22f-2c03-47b5-8714-8bbf47198737",
   "metadata": {},
   "source": [
    "### 3) Parameter Optimization\n",
    "\n",
    "We implement a function `parameter_optimize` that performs the parameter optimization step to compute the $KHK$ decomposition of the Hamiltonian. The default approach employs gradient descent using the BFGS orom in the `scipy.optimize`."
   ]
  },
  {
   "cell_type": "code",
   "execution_count": 4,
   "id": "59e68436-fc08-4f0d-97a5-ce4eca5d4952",
   "metadata": {},
   "outputs": [],
   "source": [
    "def khk_decomposition(mean,std_deviation,num_qubits):\n",
    "\n",
    "    #Cartan Decomposition\n",
    "    tfxyC = decompose_Cartan(num_qubits, mean, std_deviation)\n",
    "    \n",
    "    #Generate the Parameters via:\n",
    "    tfxyP = cartan.FindParameters(tfxyC)\n",
    "\n",
    "    return tfxyC, tfxyP\n",
    "\n",
    "#printResult() returns the parameters, the error produced by removing invalid terms, and the normed difference of the Cartan and the exact matrix exponentiation. \n",
    "#tfxyP.printResult()"
   ]
  },
  {
   "cell_type": "markdown",
   "id": "88d88850-fdd3-4daa-bc95-7ec07678c50a",
   "metadata": {},
   "source": [
    "We now initialize the model parameters and generate the KHK decomposition of the Hamiltonian."
   ]
  },
  {
   "cell_type": "code",
   "execution_count": 5,
   "id": "3a59d475-ada4-42fc-85f6-85caf41eed88",
   "metadata": {},
   "outputs": [
    {
     "name": "stdout",
     "output_type": "stream",
     "text": [
      "Optimization terminated successfully.\n",
      "         Current function value: -3.148645\n",
      "         Iterations: 102\n",
      "         Function evaluations: 112\n",
      "         Gradient evaluations: 112\n",
      "--- 4.141403913497925 seconds ---\n",
      "Optimization Error:\n",
      "3.790355607480029e-10\n"
     ]
    }
   ],
   "source": [
    "#model parameters\n",
    "mean = 0\n",
    "std_deviation = 0\n",
    "num_qubits = 5\n",
    "\n",
    "#Generate KHK decomposition\n",
    "tfxyC, tfxyP = khk_decomposition(mean,std_deviation,num_qubits);"
   ]
  },
  {
   "cell_type": "markdown",
   "id": "587ff09e-9d7a-4b91-be76-bcce0f6c858c",
   "metadata": {},
   "source": [
    "## Quantum Circuit Generation\n",
    "\n",
    "We implement two functions that will enable us to generate the desired quantum circuits:\n",
    "\n",
    "* We first implement a function `pauli_circuit` that generates a quantum circuit for $e^{-i t P}$ for a Pauli string $P$. The `pauli_circuit` function takes the following as input: \n",
    "\n",
    "    * `num_qubits`: Number of qubits.  \n",
    "    * `pauli_list`: Mean of normal distribution.\n",
    "    * `pauli_coeffs`: Standard deviation of normal distribution.\n",
    "    * `evolution_time`: Evolution time of system.\n",
    "\n",
    "`pauli_circuit` returns a quantum circuit represented in Qiskit. Our method is based on the approach summarized in Section 4 of [arXiv:1001.3855](https://arxiv.org/pdf/1001.3855). The implementation uses `Qiskit` and leverages its built-in functionality.\n",
    "\n",
    "* We then implement a function `circuit_generate` that generates a quantum circuit that implements $e^{-itH}$. The `pauli_circuit` function takes the following as input: \n",
    "\n",
    "    * `time`: Evolution time. \n",
    "    * `cartan_hamiltonian`: KHK decomoposition of Hamiltonian, $H= K h K^\\dagger$.\n",
    "    * `circuit`: A Qiskit class representing a quantum circuit.\n",
    "      \n",
    "`circuit_generate` returns a quantum circuit that implements\n",
    "$$e^{-itH} = K e^{-i h t} K^\\dagger$$ \n",
    "We implement $K$ using the the first-order product formula ansatz in Eq. (8) in [arXiv:2104.00728](https://arxiv.org/pdf/2104.00728)."
   ]
  },
  {
   "cell_type": "code",
   "execution_count": 6,
   "id": "bd1e74a7-f04a-41e1-8739-0fce546f88d3",
   "metadata": {},
   "outputs": [],
   "source": [
    "# Mapping of integers to Pauli matrices: 0 = I, 1 = X, 2 = Y, 3 = Z\n",
    "mapping = {0: 'I', 1: 'X', 2: 'Y', 3: 'Z'}\n",
    "\n",
    "def pauli_circuit(num_qubits,pauli_list,pauli_coeffs,evolution_time):\n",
    "\n",
    "    circuit = QuantumCircuit(num_qubits)\n",
    "    length = len(pauli_list)\n",
    "\n",
    "    for i in range(length):\n",
    "    \n",
    "        map_to_string = np.vectorize(lambda x: mapping[x])\n",
    "        pauli_string = ''.join(map_to_string(pauli_list[i]))\n",
    "        \n",
    "        # #WARNING: Should we Reverse the Pauli string? I think so.\n",
    "        pauli_string = pauli_string[::-1]\n",
    "    \n",
    "        #WARNING: Accepts only real parameters. What if parameter is np.complex?! Look at this later on. \n",
    "        gate = PauliEvolutionGate(Pauli(pauli_string), time=evolution_time*np.real(pauli_coeffs[i]))  \n",
    "        \n",
    "        circuit.compose(gate,inplace=True)\n",
    "        circuit.barrier()\n",
    "\n",
    "    return circuit\n",
    "\n",
    "def circuit_generate(time,cartan_hamiltonian,circuit):\n",
    "\n",
    "    #We first implement e^{-iht}\n",
    "    circuit_h = pauli_circuit(num_qubits,cartan_hamiltonian.cartan.h,cartan_hamiltonian.hCoefs,time)\n",
    "    \n",
    "    #We now implement K\n",
    "    circuit_k = pauli_circuit(num_qubits,cartan_hamiltonian.cartan.k,cartan_hamiltonian.kCoefs,1)\n",
    "    \n",
    "    #We now implement K_dagger\n",
    "    circuit_k_dagger = pauli_circuit(num_qubits,cartan_hamiltonian.cartan.k[::-1],cartan_hamiltonian.kCoefs[::-1],-1)\n",
    "\n",
    "    circuit.compose(circuit_k_dagger, inplace=True) \n",
    "    circuit.compose(circuit_h, inplace=True) \n",
    "    circuit.compose(circuit_k, inplace=True) \n",
    "\n",
    "    return circuit"
   ]
  },
  {
   "cell_type": "markdown",
   "id": "1b29c502-7faf-4571-9c0a-f0b1b85749c1",
   "metadata": {},
   "source": [
    "## Results\n",
    "\n",
    "We now implement a function `model_simulate` that allows us to simulate the model. The `model_simulate` function takes the following as input: \n",
    "\n",
    "* `evolution_time`: Evolution time of system.\n",
    "* `time_step`: Time step determining the increment for which the system evolution is generated with the initial state $\\ket{\\psi_0} = \\ket{ \\downarrow \\uparrow \\uparrow \\cdots \\uparrow}$.\n",
    "* `mean`, `std_deviation`: Parameters of the normal distribution used to generate the random $Z$ field.  \n",
    "* `observable`: The observable whose expected value is computed.  \n",
    "\n",
    "The function returns a list of expected values of the `observable`."
   ]
  },
  {
   "cell_type": "code",
   "execution_count": 7,
   "id": "4d87685b-ff5a-4f62-8444-a20f95f55c5d",
   "metadata": {},
   "outputs": [],
   "source": [
    "def model_simulate(evolution_time,time_step,num_qubits,mean,std_deviation,observable):\n",
    "    \n",
    "    #list to store expected values\n",
    "    expected_value_observable = list()\n",
    "    \n",
    "    for t in np.arange(0,evolution_time+time_step,time_step):\n",
    "\n",
    "        #Initialize quantum circuit\n",
    "        initial_circuit = QuantumCircuit(num_qubits)\n",
    "            \n",
    "        #Set the initial state. \n",
    "        initial_circuit.x(0)\n",
    "        initial_circuit.barrier()\n",
    "    \n",
    "        #Implement e^(-itH)\n",
    "        circuit = circuit_generate(t,tfxyP,initial_circuit)\n",
    "        \n",
    "        #Execute quantum circuit\n",
    "        psi = Statevector(circuit)\n",
    "        \n",
    "        #Measure expected value operator square\n",
    "        expected_value_observable.append(psi.expectation_value(observable))\n",
    "        \n",
    "    #Return list of expected values\n",
    "    return expected_value_observable"
   ]
  },
  {
   "cell_type": "markdown",
   "id": "cab08c80-0845-4ea3-bcb9-9d91bdc7d9ae",
   "metadata": {},
   "source": [
    "We now attempt to replicate the results presented in Figure 4 of [arXiv:2104.00728](https://arxiv.org/pdf/2104.00728). We take the following steps:\n",
    "\n",
    "* Intialize evolution time and time step size.\n",
    "* We define the `observable`\n",
    "$$\n",
    "\\hat{N} = \\sum_{r=1}^{n} \\frac{r - 1}{2}(I - Z_r)\n",
    "$$\n",
    "* We call the `model_simulate` to simulate the model.\n",
    "* We compute $\\bra{\\psi_t} \\hat{N}^2 \\ket{\\psi_t}$ and plot our findings."
   ]
  },
  {
   "cell_type": "code",
   "execution_count": 8,
   "id": "c12ff6d5-94a4-45ed-8e62-e367755a9bdd",
   "metadata": {},
   "outputs": [],
   "source": [
    "#total evolution time and time step\n",
    "evolution_time = 20\n",
    "time_step = 0.05\n",
    "\n",
    "# Define the operator hat_N\n",
    "interactions = [(\"I\", [0], num_qubits*(num_qubits-1)/4)]\n",
    "\n",
    "### WARNING. DOUBLE CHECK THIS LATER ONCheck if it should be num_qubits-r-1.\n",
    "for r in range(num_qubits):\n",
    "    interactions.append((\"Z\", [r], -0.5*r))\n",
    "\n",
    "hat_N = SparsePauliOp.from_sparse_list(interactions, num_qubits)\n",
    "observable = hat_N @ hat_N\n",
    "\n",
    "#Generate data\n",
    "t_values = np.arange(0, evolution_time + time_step, time_step)\n",
    "expected_values = model_simulate(evolution_time,time_step,num_qubits,mean,std_deviation,observable)"
   ]
  },
  {
   "cell_type": "code",
   "execution_count": 9,
   "id": "6ab7b002-aff2-4b0d-8855-8e64c4d468d5",
   "metadata": {},
   "outputs": [
    {
     "name": "stderr",
     "output_type": "stream",
     "text": [
      "/Library/Frameworks/Python.framework/Versions/3.13/lib/python3.13/site-packages/matplotlib/cbook.py:1762: ComplexWarning: Casting complex values to real discards the imaginary part\n",
      "  return math.isfinite(val)\n",
      "/Library/Frameworks/Python.framework/Versions/3.13/lib/python3.13/site-packages/matplotlib/cbook.py:1398: ComplexWarning: Casting complex values to real discards the imaginary part\n",
      "  return np.asarray(x, float)\n"
     ]
    },
    {
     "data": {
      "image/png": "[encoded data removed]",
      "text/plain": [
       "<Figure size 2000x500 with 1 Axes>"
      ]
     },
     "metadata": {},
     "output_type": "display_data"
    }
   ],
   "source": [
    "# Create the plot\n",
    "\n",
    "#plt.style.use('default')\n",
    "\n",
    "# Plot the original data points\n",
    "plt.figure(figsize=(20, 5))\n",
    "plt.plot(t_values, np.sqrt(expected_values), label=r'$\\mathrm{Cartan}$', marker='o', color='red', markersize=1, linewidth=2)\n",
    "\n",
    "# Enhance axes\n",
    "plt.xlabel(r'Time', fontsize=16)\n",
    "plt.ylabel(r'$\\sqrt{\\widehat{N^2}}$', fontsize=16)\n",
    "\n",
    "# Ensure y-range starts from 0\n",
    "plt.ylim(0, None)\n",
    "\n",
    "# Add grid\n",
    "#plt.grid(color='gray', linestyle='--', linewidth=0.5, alpha=0.7)\n",
    "\n",
    "# Legend\n",
    "plt.legend(fontsize=12, loc='upper right', frameon=False, framealpha=0.9, edgecolor='black')\n",
    "\n",
    "# Bold ticks\n",
    "plt.xticks(fontsize=12)\n",
    "plt.yticks(fontsize=12)\n",
    "\n",
    "# Show the plot\n",
    "plt.show()"
   ]
  },
  {
   "cell_type": "code",
   "execution_count": null,
   "id": "d06be41f-a9fa-441a-b51f-664f039ef774",
   "metadata": {},
   "outputs": [],
   "source": []
  }
 ],
 "metadata": {
  "kernelspec": {
   "display_name": "Python 3 (ipykernel)",
   "language": "python",
   "name": "python3"
  },
  "language_info": {
   "codemirror_mode": {
    "name": "ipython",
    "version": 3
   },
   "file_extension": ".py",
   "mimetype": "text/x-python",
   "name": "python",
   "nbconvert_exporter": "python",
   "pygments_lexer": "ipython3",
   "version": "3.13.0"
  }
 },
 "nbformat": 4,
 "nbformat_minor": 5
}
