{
 "cells": [
  {
   "cell_type": "markdown",
   "id": "a8192e9e-a3b2-4ab9-aa33-1bc4c16a4eab",
   "metadata": {},
   "source": [
    "# Simulation of the $XY$ Transverse Field Ising Model with a Random $Z$ Field\n",
    "\n",
    "We simulate the $XY$ transverse field Ising model with a random $Z$ field. \n",
    "\n",
    "* Our initial objective is to reproduce the results presented in Figure 4 of [arXiv:2104.00728](https://arxiv.org/pdf/2104.00728).\n",
    "* Subsequently, we utilize the ansatz based on the multi-product formula to conduct a comparative analysis for our project.\n",
    "\n",
    "We start by importing necessary libraries etc."
   ]
  },
  {
   "cell_type": "code",
   "execution_count": 1,
   "id": "098d5336-12e7-4c93-9ac9-53e7b891760a",
   "metadata": {},
   "outputs": [],
   "source": [
    "# Importing necessary packages\n",
    "# - `numpy` for numerical operations\n",
    "# - `matplotlib` for plotting\n",
    "# - `sys` for system-related functions\n",
    "# - `time` for recording time\n",
    "# - `qiskit` for quantum simulations\n",
    "\n",
    "import numpy as np\n",
    "import matplotlib.pyplot as plt\n",
    "import sys\n",
    "import time\n",
    "import qiskit\n",
    "\n",
    "from qiskit.quantum_info import Pauli, Statevector, SparsePauliOp\n",
    "from qiskit import QuantumCircuit\n",
    "from qiskit.circuit.library import PauliEvolutionGate\n",
    "from qiskit.transpiler.passes import Decompose\n",
    "from qiskit.synthesis import SuzukiTrotter\n",
    "\n",
    "### WARNING: COPY YOUR DIRECTORY'S PATH BELOW BEFORE RUNNING CODE ON YOUR LOCAL MACHINE  ###\n",
    "sys.path.append(\"/Users/junaida/Documents/MPF-Cartan/\")\n",
    "\n",
    "from Cartan_Decomposition import cartan\n",
    "\n",
    "# Mapping of integers to Pauli matrices: 0 = I, 1 = X, 2 = Y, 3 = Z\n",
    "mapping = {0: 'I', 1: 'X', 2: 'Y', 3: 'Z'}"
   ]
  },
  {
   "cell_type": "markdown",
   "id": "28b2ebed-0204-4064-b367-8683eb1b259e",
   "metadata": {},
   "source": [
    "## Cartan Decomposition of Hamiltonian\n",
    "\n",
    "We generate the Cartan decomposition of the Hamiltonian corresponding to the transverse field XY model with a random Z field, as described in [arXiv:2104.00728](https://arxiv.org/pdf/2104.00728). The three steps of the algorithm are implemented sequentially.\n",
    "\n",
    "### 1) Generate Hamiltonian:\n",
    "\n",
    "We define a function (`gen_hamiltonian`) that generates the Hamiltonian. The function takes the following as input: \n",
    "\n",
    "* `num_qubits`: Number of qubits.  \n",
    "* `mean`: Mean of normal distribution.\n",
    "* `std_deviation`: Standard deviation of normal distribution.  \n",
    "\n",
    "The function returns a class representing the Hamiltonian for the transverse field XY model with a random Z field. Note that the function outputs the normalized Hamiltonian defined by the transformation:\n",
    "\n",
    "$$\n",
    "H \\mapsto \\frac{H}{\\sqrt{\\text{Tr}(H^2)}}\n",
    "$$"
   ]
  },
  {
   "cell_type": "code",
   "execution_count": 2,
   "id": "d56f5769-289b-45d5-8c7f-d8b3c3041f49",
   "metadata": {},
   "outputs": [],
   "source": [
    "#The function below assumes that the that the XY model with a random Z field is to be generated.\n",
    "\n",
    "model = 'tfxy' # This will be used to generate the Hamiltonian of the form XXII + YYII + a_1*ZIII + ...\n",
    "\n",
    "def gen_hamiltonian(num_qubits, mean, std_deviation):\n",
    "    \n",
    "    random_coeffs = [np.random.normal(mean, std_deviation) for i in range(num_qubits)]\n",
    "    coefficients = random_coeffs + [1]*2*(num_qubits-1)\n",
    "    modelTuple = [(coefficients, model)]\n",
    "    \n",
    "    tfxyH = cartan.Hamiltonian(num_qubits, name=modelTuple)\n",
    "\n",
    "    #We now implement the normalization\n",
    "    operators = []\n",
    "    length=len(tfxyH.HTuples)\n",
    "    \n",
    "    for i in range(length):\n",
    "    \n",
    "        map_to_string = np.vectorize(lambda x: mapping[x])\n",
    "        operator_string = ''.join(map_to_string(tfxyH.HTuples[i]))\n",
    "        operators.append(operator_string)\n",
    "    \n",
    "    hamiltonian = SparsePauliOp(operators, tfxyH.HCoefs)\n",
    "    hamiltonian_squared = hamiltonian@hamiltonian\n",
    "    \n",
    "    normalization=np.sqrt(np.trace(hamiltonian_squared.to_matrix()))\n",
    "    tfxyH.HCoefs = tfxyH.HCoefs/normalization\n",
    "    \n",
    "    return tfxyH"
   ]
  },
  {
   "cell_type": "markdown",
   "id": "a2fe488d-ac1c-4c7d-abc3-0abd35eecb70",
   "metadata": {},
   "source": [
    "### 2) Cartan Decomposition\n",
    "\n",
    "We now define two functions that compute the Cartan decomposition of the Hamiltonian algebra.\n",
    "\n",
    "* `pile` implements the simplification of the $k$-algebra in Cartan decomposition for the $XY$ transverse field Ising model as introduced in [arXiv:2104.00728](https://arxiv.org/pdf/2104.00728). The function takes as input a natural number `N`.\n",
    "* `decompose_Cartan` implements the Cartan decomposition and returns the Cartan decomposition of the Hamiltonian. The function takes as input `num_qubits`, `mean` and `std_deviation` as defined above. Note that `decompose_Cartan` assumes the `CountY` involution can indeed be applied. Additional functionality will be incorporated in future updates."
   ]
  },
  {
   "cell_type": "code",
   "execution_count": 3,
   "id": "9a7eba89-93c6-4619-8e82-8f103c17e427",
   "metadata": {},
   "outputs": [],
   "source": [
    "def pile(N):\n",
    "    k = []\n",
    "    for i in range(N-1):\n",
    "        for j in range(N-i-1):\n",
    "            elem = (0,)*j+(2,1)+(0,)*(N-j-2)\n",
    "            k.append(elem)\n",
    "            \n",
    "            elem = (0,)*j+(1,2)+(0,)*(N-j-2)\n",
    "            k.append(elem)\n",
    "    return k\n",
    "\n",
    "#Warning: the function below implements the CountY involution under the assumption that it can indeed be implemeneted.\n",
    "#Add more functionality later on.\n",
    "\n",
    "def decompose_Cartan(num_qubits, mean, std_deviation):\n",
    "    \n",
    "    tfxyH = gen_hamiltonian(num_qubits, mean, std_deviation)\n",
    "    tfxyC = cartan.Cartan(tfxyH, involution='countY')\n",
    "\n",
    "    #Simplified k algebra\n",
    "    tfxyC.k = pile(num_qubits)\n",
    "\n",
    "    return tfxyC"
   ]
  },
  {
   "cell_type": "markdown",
   "id": "f8cdb22f-2c03-47b5-8714-8bbf47198737",
   "metadata": {},
   "source": [
    "### 3) Parameter Optimization\n",
    "\n",
    "We implement a function `khk_decomposition` that performs the parameter optimization step to compute the $KHK$ decomposition of the Hamiltonian. The default approach employs gradient descent using the BFGS orom in the `scipy.optimize`."
   ]
  },
  {
   "cell_type": "code",
   "execution_count": 4,
   "id": "59e68436-fc08-4f0d-97a5-ce4eca5d4952",
   "metadata": {},
   "outputs": [],
   "source": [
    "def khk_decomposition(mean,std_deviation,num_qubits):\n",
    "\n",
    "    #Cartan Decomposition\n",
    "    tfxyC = decompose_Cartan(num_qubits, mean, std_deviation)\n",
    "    \n",
    "    #Generate the Parameters via:\n",
    "    tfxyP = cartan.FindParameters(tfxyC)\n",
    "\n",
    "    return tfxyC, tfxyP\n",
    "\n",
    "#printResult() returns the parameters, the error produced by removing invalid terms, and the normed difference of the Cartan and the exact matrix exponentiation. \n",
    "#tfxyP.printResult()"
   ]
  },
  {
   "cell_type": "markdown",
   "id": "88d88850-fdd3-4daa-bc95-7ec07678c50a",
   "metadata": {},
   "source": [
    "We now initialize the model parameters and generate the KHK decomposition of the Hamiltonian."
   ]
  },
  {
   "cell_type": "code",
   "execution_count": 13,
   "id": "3a59d475-ada4-42fc-85f6-85caf41eed88",
   "metadata": {},
   "outputs": [
    {
     "name": "stdout",
     "output_type": "stream",
     "text": [
      "Optimization terminated successfully.\n",
      "         Current function value: -0.196790\n",
      "         Iterations: 147\n",
      "         Function evaluations: 152\n",
      "         Gradient evaluations: 152\n",
      "--- 5.52852988243103 seconds ---\n",
      "Optimization Error:\n",
      "1.8867864885827253e-10\n"
     ]
    }
   ],
   "source": [
    "#model parameters\n",
    "mean = 0\n",
    "std_deviation = 0\n",
    "num_qubits = 5\n",
    "\n",
    "#generate Hamiltonian for exact time evolution\n",
    "tfxyH = gen_hamiltonian(num_qubits,mean,std_deviation)\n",
    "length = len(tfxyH.HTuples)\n",
    "\n",
    "operators = []\n",
    "\n",
    "for i in range(length):\n",
    "    \n",
    "    map_to_string = np.vectorize(lambda x: mapping[x])\n",
    "    operator_string = ''.join(map_to_string(tfxyH.HTuples[i]))\n",
    "    operators.append(operator_string)\n",
    "    \n",
    "hamiltonian = SparsePauliOp(operators, tfxyH.HCoefs)\n",
    "\n",
    "#Generate KHK decomposition\n",
    "tfxyC, tfxyP = khk_decomposition(mean,std_deviation,num_qubits)"
   ]
  },
  {
   "cell_type": "markdown",
   "id": "587ff09e-9d7a-4b91-be76-bcce0f6c858c",
   "metadata": {},
   "source": [
    "## Quantum Circuit Generation\n",
    "\n",
    "We first implement a helper function (`pauli_circuit`) that generates a quantum circuit $e^{-i t P}$, where $P$ is a list of Pauli strings. The function takes the following as input: \n",
    "\n",
    "* `num_qubits`: Number of qubits.  \n",
    "* `pauli_list`: List of Pauli strings.\n",
    "* `pauli_coeffs`: List of Pauli coefficients.\n",
    "* `evolution_time`: Evolution time of system.\n",
    "* `boolean`: A Boolean variable that is `True` if the elements in `pauli_list` are of the form `(3,2,1,0)`\n",
    "\n",
    "The function returns a quantum circuit represented in `Qiskit`. The implemention of the function is based on the approach summarized in Section 4 of [arXiv:1001.3855](https://arxiv.org/pdf/1001.3855)."
   ]
  },
  {
   "cell_type": "code",
   "execution_count": 14,
   "id": "bd1e74a7-f04a-41e1-8739-0fce546f88d3",
   "metadata": {},
   "outputs": [],
   "source": [
    "def pauli_circuit(num_qubits,pauli_list,pauli_coeffs,evolution_time,boolean):\n",
    "    \n",
    "    circuit = QuantumCircuit(num_qubits)\n",
    "    length = len(pauli_list)\n",
    "\n",
    "    for i in range(length):\n",
    "\n",
    "        if boolean == True:\n",
    "            map_to_string = np.vectorize(lambda x: mapping[x])\n",
    "            pauli_string = ''.join(map_to_string(pauli_list[i]))\n",
    "\n",
    "        else:\n",
    "            pauli_string =  pauli_list[i]\n",
    "\n",
    "        #Do we need it?\n",
    "        pauli_string = pauli_string[::-1]\n",
    "    \n",
    "        gate = PauliEvolutionGate(Pauli(pauli_string), time=evolution_time*np.real(pauli_coeffs[i]))  \n",
    "        \n",
    "        circuit.compose(gate,inplace=True)\n",
    "        circuit.barrier()\n",
    "\n",
    "    return circuit"
   ]
  },
  {
   "cell_type": "markdown",
   "id": "392fc25c-03d9-4ae2-9589-030880477167",
   "metadata": {},
   "source": [
    "We now implement a function (`circuit_generate`) that generates a quantum circuit that implements $e^{-itH}$, given the Cartan decomposition of $H$. The function takes the following as input: \n",
    "\n",
    "* `time`: Evolution time. \n",
    "* `cartan_hamiltonian`: KHK decomoposition of Hamiltonian, $H= K h K^\\dagger$.\n",
    "* `circuit`: A Qiskit class representing a quantum circuit.\n",
    "      \n",
    "The function returns a quantum circuit that implements\n",
    "$$e^{-itH} = K e^{-i h t} K^\\dagger$$ \n",
    "We implement $K$ using the the first-order product formula ansatz in Eq. (8) in [arXiv:2104.00728](https://arxiv.org/pdf/2104.00728)."
   ]
  },
  {
   "cell_type": "code",
   "execution_count": 15,
   "id": "e0f388d8-bcd2-43b9-9341-f8fcee8771d2",
   "metadata": {},
   "outputs": [],
   "source": [
    "def circuit_generate(time,cartan_hamiltonian,circuit,boolean):\n",
    "\n",
    "    #We first implement e^{-iht}\n",
    "    circuit_h = pauli_circuit(num_qubits,cartan_hamiltonian.cartan.h,cartan_hamiltonian.hCoefs,time,boolean)\n",
    "    \n",
    "    #We now implement K\n",
    "    circuit_k = pauli_circuit(num_qubits,cartan_hamiltonian.cartan.k,cartan_hamiltonian.kCoefs,1,boolean)\n",
    "    \n",
    "    #We now implement K_dagger\n",
    "    circuit_k_dagger = pauli_circuit(num_qubits,cartan_hamiltonian.cartan.k[::-1],cartan_hamiltonian.kCoefs[::-1],-1,boolean)\n",
    "\n",
    "    circuit.compose(circuit_k, inplace=True) \n",
    "    circuit.compose(circuit_h, inplace=True) \n",
    "    circuit.compose(circuit_k_dagger, inplace=True) \n",
    "\n",
    "    return circuit"
   ]
  },
  {
   "cell_type": "markdown",
   "id": "1b29c502-7faf-4571-9c0a-f0b1b85749c1",
   "metadata": {},
   "source": [
    "## Results\n",
    "\n",
    "We now implement a function (`model_simulate`) that allows us to simulate the model. The function takes the following as input: \n",
    "\n",
    "* `evolution_time`: Evolution time of system.\n",
    "* `time_step`: Time step determining the increment for which the system evolution is generated with the initial state $\\ket{\\psi_0} = \\ket{ \\downarrow \\uparrow \\uparrow \\cdots \\uparrow}$.\n",
    "* `mean`, `std_deviation`: Parameters of the normal distribution used to generate the random $Z$ field.  \n",
    "* `observable`: The observable whose expected value is computed.\n",
    "* `ham`: Hamiltonian defined using the `SparsePauliOp` function in Qiskit\n",
    "* `order`, `reps`: Order and repitions of the Suzuki-Trotter formula.\n",
    "\n",
    "The function returns a list of expected values of the `observable`."
   ]
  },
  {
   "cell_type": "code",
   "execution_count": 16,
   "id": "4d87685b-ff5a-4f62-8444-a20f95f55c5d",
   "metadata": {},
   "outputs": [],
   "source": [
    "def model_simulate(evolution_time,time_step,num_qubits,mean,std_deviation,observable,ham,order,reps):\n",
    "    \n",
    "    #list to store expected values\n",
    "    expected_value_cartan, expected_value_trotter = list(), list()\n",
    "    \n",
    "    for t in np.arange(0,evolution_time+time_step,time_step):\n",
    "\n",
    "        #Initialize quantum circuit\n",
    "        cartan_circuit = QuantumCircuit(num_qubits)\n",
    "        trotter_circuit = QuantumCircuit(num_qubits)\n",
    "            \n",
    "        #Set the initial state. \n",
    "        cartan_circuit.x(0)\n",
    "        trotter_circuit.x(0)\n",
    "    \n",
    "        #Implement e^(-itH) via Cartan decomposition \n",
    "        circuit_cartan = circuit_generate(t,tfxyP,cartan_circuit,boolean=True)\n",
    "\n",
    "        #Implement e^(-itH) via Trotter-Suzuki and compute expected value\n",
    "        suzuki_trotter = SuzukiTrotter(order, reps)\n",
    "        evolution_gates = PauliEvolutionGate(ham,t)\n",
    "        suzuki_trotter_gates = suzuki_trotter.expand(evolution_gates)\n",
    "        gates_list = SparsePauliOp.from_sparse_list(suzuki_trotter_gates,num_qubits)\n",
    "\n",
    "        gates = pauli_circuit(num_qubits,gates_list.paulis,gates_list.coeffs,1,boolean=False)\n",
    "        trotter_circuit.compose(gates,inplace=True)\n",
    "\n",
    "        #Is this correct? I am not sure\n",
    "        #trotter_circuit.compose(PauliEvolutionGate(SparsePauliOp.from_sparse_list(suzuki_trotter_gates,num_qubits)), inplace=True) \n",
    "        \n",
    "        #Execute quantum circuit\n",
    "        psi_cartan = Statevector(circuit_cartan)\n",
    "        psi_trotter = Statevector(trotter_circuit)\n",
    "        \n",
    "        #Measure expected value of observale\n",
    "        expected_value_cartan.append(psi_cartan.expectation_value(observable))\n",
    "        expected_value_trotter.append(psi_trotter.expectation_value(observable))\n",
    "        \n",
    "    #Return list of expected values\n",
    "    return expected_value_cartan, expected_value_trotter, trotter_circuit"
   ]
  },
  {
   "cell_type": "markdown",
   "id": "cab08c80-0845-4ea3-bcb9-9d91bdc7d9ae",
   "metadata": {},
   "source": [
    "We now attempt to replicate the results presented in Figure 4 of [arXiv:2104.00728](https://arxiv.org/pdf/2104.00728). We take the following steps:\n",
    "\n",
    "* Intialize evolution time and time step size.\n",
    "* We define the `observable`\n",
    "$$\n",
    "\\hat{N} = \\sum_{r=1}^{n} \\frac{r - 1}{2}(I - Z_r)\n",
    "$$\n",
    "* We call the `model_simulate` to simulate the model.\n",
    "* We compute $\\bra{\\psi_t} \\hat{N}^2 \\ket{\\psi_t}$ and plot our findings."
   ]
  },
  {
   "cell_type": "code",
   "execution_count": 19,
   "id": "c12ff6d5-94a4-45ed-8e62-e367755a9bdd",
   "metadata": {},
   "outputs": [
    {
     "name": "stdout",
     "output_type": "stream",
     "text": [
      "41.244805097579956\n"
     ]
    }
   ],
   "source": [
    "#total evolution time and time step\n",
    "evolution_time = 400\n",
    "time_step = 0.5\n",
    "\n",
    "#Trotter-Suzuki parameters\n",
    "order=2\n",
    "reps=6\n",
    "ham=hamiltonian\n",
    "\n",
    "# Define the operator hat_N\n",
    "interactions = [(\"I\", [0], num_qubits*(num_qubits-1)/4)]\n",
    "\n",
    "for r in range(num_qubits):\n",
    "    interactions.append((\"Z\", [r], -0.5*r))\n",
    "\n",
    "hat_N = SparsePauliOp.from_sparse_list(interactions, num_qubits)\n",
    "observable = hat_N @ hat_N\n",
    "\n",
    "#Generate data\n",
    "t_values = np.arange(0, evolution_time + time_step, time_step)\n",
    "\n",
    "start = time.time()\n",
    "expected_values_cartan, expected_values_trotter, tc = model_simulate(evolution_time,time_step,num_qubits,mean,std_deviation,observable,ham,order,reps)\n",
    "end = time.time()\n",
    "print(end - start)"
   ]
  },
  {
   "cell_type": "markdown",
   "id": "b05a5f1c-4261-419f-b82f-1e6b5579c37e",
   "metadata": {},
   "source": [
    "We now plot results."
   ]
  },
  {
   "cell_type": "code",
   "execution_count": 20,
   "id": "6ab7b002-aff2-4b0d-8855-8e64c4d468d5",
   "metadata": {},
   "outputs": [
    {
     "data": {
      "image/png": "[encoded data removed]",
      "text/plain": [
       "<Figure size 1500x200 with 1 Axes>"
      ]
     },
     "metadata": {},
     "output_type": "display_data"
    }
   ],
   "source": [
    "# Create the plot\n",
    "\n",
    "#plt.style.use('default')\n",
    "\n",
    "# Plot the original data points\n",
    "plt.figure(figsize=(15, 2))\n",
    "plt.plot(t_values, np.sqrt(expected_values_cartan), label=r'$\\mathrm{Cartan}$', marker='o', color='red', markersize=1, linewidth=0)\n",
    "plt.plot(t_values, np.sqrt(expected_values_trotter), label=r'$\\mathrm{Trotter-Suzuki}$', marker='o', color='green', markersize=1, linewidth=0)\n",
    "\n",
    "# Enhance axes\n",
    "plt.xlabel(r'Time', fontsize=16)\n",
    "plt.ylabel(r'$\\sqrt{\\widehat{N^2}}$', fontsize=16)\n",
    "\n",
    "# Ensure y-range starts from 0\n",
    "plt.ylim(0, None)\n",
    "\n",
    "# Add grid\n",
    "#plt.grid(color='gray', linestyle='--', linewidth=0.5, alpha=0.7)\n",
    "\n",
    "# Legend\n",
    "#plt.legend(fontsize=12, loc='upper right', frameon=False, framealpha=0.9, edgecolor='black')\n",
    "\n",
    "# Bold ticks\n",
    "plt.xticks(fontsize=12)\n",
    "plt.yticks(fontsize=12)\n",
    "\n",
    "# Show the plot\n",
    "plt.show()"
   ]
  },
  {
   "cell_type": "code",
   "execution_count": null,
   "id": "8875ceaa-6256-4406-8c27-5c49819d27a7",
   "metadata": {},
   "outputs": [],
   "source": []
  }
 ],
 "metadata": {
  "kernelspec": {
   "display_name": "Python 3 (ipykernel)",
   "language": "python",
   "name": "python3"
  },
  "language_info": {
   "codemirror_mode": {
    "name": "ipython",
    "version": 3
   },
   "file_extension": ".py",
   "mimetype": "text/x-python",
   "name": "python",
   "nbconvert_exporter": "python",
   "pygments_lexer": "ipython3",
   "version": "3.13.0"
  }
 },
 "nbformat": 4,
 "nbformat_minor": 5
}
