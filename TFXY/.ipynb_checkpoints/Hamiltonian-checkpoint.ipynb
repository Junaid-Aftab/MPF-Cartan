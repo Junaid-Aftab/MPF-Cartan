{
 "cells": [
  {
   "cell_type": "code",
   "execution_count": 1,
   "id": "25401104-8d00-49ed-83cd-81d54cdc3e45",
   "metadata": {},
   "outputs": [],
   "source": [
    "# Importing necessary packages\n",
    "# - `numpy` for numerical operations\n",
    "# - `qiskit` for quantum simulations\n",
    "# - `sys` for system-related functions\n",
    "\n",
    "import numpy as np\n",
    "import qiskit\n",
    "import sys\n",
    "\n",
    "from qiskit.quantum_info import Pauli, Statevector, SparsePauliOp\n",
    "\n",
    "sys.path.append(\"/Users/junaida/Documents/MPF-Cartan/\")\n",
    "\n",
    "from Cartan_Decomposition import cartan\n",
    "\n",
    "# Mapping of integers to Pauli matrices: 0 = I, 1 = X, 2 = Y, 3 = Z\n",
    "mapping = {0: 'I', 1: 'X', 2: 'Y', 3: 'Z'}"
   ]
  },
  {
   "cell_type": "markdown",
   "id": "c7261cae-3d3f-4da7-ae8e-15ccb31af163",
   "metadata": {},
   "source": [
    "## Cartan Decomposition of Hamiltonian\n",
    "\n",
    "We generate the Cartan decomposition of the Hamiltonian corresponding to the transverse field XY model with a random Z field, as described in [arXiv:2104.00728](https://arxiv.org/pdf/2104.00728). The three steps of the algorithm are implemented sequentially.\n",
    "\n",
    "### 1) Generate Hamiltonian:\n",
    "\n",
    "We define a function (`gen_hamiltonian`) that generates the Hamiltonian. The function takes the following as input: \n",
    "\n",
    "* `num_qubits`: Number of qubits.  \n",
    "* `mean`: Mean of normal distribution.\n",
    "* `std_deviation`: Standard deviation of normal distribution.  \n",
    "\n",
    "The function returns a class representing the Hamiltonian for the transverse field XY model with a random Z field. Note that the function outputs the normalized Hamiltonian defined by the transformation:\n",
    "\n",
    "$$\n",
    "H \\mapsto \\frac{H}{\\sqrt{\\text{Tr}(H^2)}}\n",
    "$$"
   ]
  },
  {
   "cell_type": "code",
   "execution_count": 1,
   "id": "7eaaf4a5-d94b-4a6c-8392-e2f831cd3076",
   "metadata": {},
   "outputs": [],
   "source": [
    "# Mapping of integers to Pauli matrices: 0 = I, 1 = X, 2 = Y, 3 = Z\n",
    "mapping = {0: 'I', 1: 'X', 2: 'Y', 3: 'Z'}\n",
    "\n",
    "#The function below assumes that the that the XY model with a random Z field is to be generated.\n",
    "\n",
    "model = 'tfxy' # This will be used to generate the Hamiltonian of the form XXII + YYII + a_1*ZIII + ...\n",
    "\n",
    "def gen_hamiltonian(num_qubits, mean, std_deviation):\n",
    "    \n",
    "    random_coeffs = [np.random.normal(mean, std_deviation) for i in range(num_qubits)]\n",
    "    coefficients = random_coeffs + [1]*2*(num_qubits-1)\n",
    "    modelTuple = [(coefficients, model)]\n",
    "\n",
    "    tfxyH = cartan.Hamiltonian(num_qubits, name=modelTuple)\n",
    "\n",
    "    #We now implement the normalization\n",
    "    operators = []\n",
    "    length=len(tfxyH.HTuples)\n",
    "    \n",
    "    for i in range(length):\n",
    "    \n",
    "        map_to_string = np.vectorize(lambda x: mapping[x])\n",
    "        operator_string = ''.join(map_to_string(tfxyH.HTuples[i]))\n",
    "        operators.append(operator_string)\n",
    "    \n",
    "    hamiltonian = SparsePauliOp(operators, tfxyH.HCoefs)\n",
    "    hamiltonian_squared = hamiltonian@hamiltonian\n",
    "    \n",
    "    normalization=np.sqrt(np.trace(hamiltonian_squared.to_matrix()))\n",
    "    tfxyH.HCoefs = tfxyH.HCoefs/normalization\n",
    "    \n",
    "    return tfxyH"
   ]
  },
  {
   "cell_type": "markdown",
   "id": "2f98a1b5-ec44-4ccc-b2ed-a86feb051dad",
   "metadata": {},
   "source": [
    "### 2) Cartan Decomposition\n",
    "\n",
    "We now define two functions that compute the Cartan decomposition of the Hamiltonian algebra.\n",
    "\n",
    "* `pile` implements the simplification of the $k$-algebra in Cartan decomposition for the $XY$ transverse field Ising model as introduced in [arXiv:2104.00728](https://arxiv.org/pdf/2104.00728). The function takes as input a natural number `N`.\n",
    "* `decompose_Cartan` implements the Cartan decomposition and returns the Cartan decomposition of the Hamiltonian. The function takes as input `num_qubits`, `mean` and `std_deviation` as defined above. Note that `decompose_Cartan` assumes the `CountY` involution can indeed be applied. Additional functionality will be incorporated in future updates."
   ]
  },
  {
   "cell_type": "code",
   "execution_count": null,
   "id": "da04ec33-db76-4f1e-867a-3f5f999dfde3",
   "metadata": {},
   "outputs": [],
   "source": [
    "def pile(N):\n",
    "    k = []\n",
    "    for i in range(N-1):\n",
    "        for j in range(N-i-1):\n",
    "            elem = (0,)*j+(2,1)+(0,)*(N-j-2)\n",
    "            k.append(elem)\n",
    "            \n",
    "            elem = (0,)*j+(1,2)+(0,)*(N-j-2)\n",
    "            k.append(elem)\n",
    "    return k\n",
    "\n",
    "#Warning: the function below implements the CountY involution under the assumption that it can indeed be implemeneted.\n",
    "#Add more functionality later on.\n",
    "\n",
    "def decompose_Cartan(num_qubits, mean, std_deviation):\n",
    "    \n",
    "    tfxyH = gen_hamiltonian(num_qubits, mean, std_deviation)\n",
    "    tfxyC = cartan.Cartan(tfxyH, involution='countY')\n",
    "\n",
    "    #Simplified k algebra\n",
    "    tfxyC.k = pile(num_qubits)\n",
    "\n",
    "    return tfxyC"
   ]
  },
  {
   "cell_type": "markdown",
   "id": "1ab966c8-b00c-4e5c-aef4-d7bcf2a385d5",
   "metadata": {},
   "source": [
    "### 3) Parameter Optimization\n",
    "\n",
    "We implement a function `khk_decomposition` that performs the parameter optimization step to compute the $KHK$ decomposition of the Hamiltonian. The default approach employs gradient descent using the BFGS orom in the `scipy.optimize`."
   ]
  },
  {
   "cell_type": "code",
   "execution_count": 4,
   "id": "126c57df-bce3-4514-872c-2b0c63c1f43e",
   "metadata": {},
   "outputs": [],
   "source": [
    "def khk_decomposition(mean,std_deviation,num_qubits):\n",
    "\n",
    "    #Cartan Decomposition\n",
    "    tfxyC = decompose_Cartan(num_qubits, mean, std_deviation)\n",
    "    \n",
    "    #Generate the Parameters via:\n",
    "    tfxyP = cartan.FindParameters(tfxyC)\n",
    "\n",
    "    return tfxyC, tfxyP\n",
    "\n",
    "#printResult() returns the parameters, the error produced by removing invalid terms, and the normed difference of the Cartan and the exact matrix exponentiation. \n",
    "#tfxyP.printResult()"
   ]
  }
 ],
 "metadata": {
  "kernelspec": {
   "display_name": "Python 3 (ipykernel)",
   "language": "python",
   "name": "python3"
  },
  "language_info": {
   "codemirror_mode": {
    "name": "ipython",
    "version": 3
   },
   "file_extension": ".py",
   "mimetype": "text/x-python",
   "name": "python",
   "nbconvert_exporter": "python",
   "pygments_lexer": "ipython3",
   "version": "3.13.0"
  }
 },
 "nbformat": 4,
 "nbformat_minor": 5
}
