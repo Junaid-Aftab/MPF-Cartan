{
 "cells": [
  {
   "cell_type": "code",
   "execution_count": 3,
   "id": "a71edcf4-3431-48f4-8dbf-3ad185b6215d",
   "metadata": {},
   "outputs": [],
   "source": [
    "import numpy as np\n",
    "import sys\n",
    "import qiskit\n",
    "\n",
    "### WARNING: COPY YOUR DIRECTORY'S PATH BELOW BEFORE RUNNING CODE ON YOUR LOCAL MACHINE  ###\n",
    "sys.path.append(\"/Users/junaida/Documents/MPF-Cartan/\")"
   ]
  },
  {
   "cell_type": "markdown",
   "id": "288d4d5c-6b67-476b-9efa-41d7d1589ee1",
   "metadata": {},
   "source": [
    "## Quantum Circuit Generation\n",
    "\n",
    "We fimplement a helper function (`pauli_circuit`) that generates a quantum circuit $e^{-i t P}$, where $P$ is a list of Pauli strings. The function takes the following as input: \n",
    "\n",
    "* `num_qubits`: Number of qubits.  \n",
    "* `pauli_list`: List of Pauli strings.\n",
    "* `pauli_coeffs`: List of Pauli coefficients.\n",
    "* `evolution_time`: Evolution time of system.\n",
    "* `boolean`: A Boolean variable that is `True` if the elements in `pauli_list` are of the form `(3,2,1,0)`\n",
    "\n",
    "The function returns a quantum circuit represented in `Qiskit`. The implemention of the function is based on the approach summarized in Section 4 of [arXiv:1001.3855](https://arxiv.org/pdf/1001.3855)."
   ]
  },
  {
   "cell_type": "code",
   "execution_count": 5,
   "id": "88dc61f7-c3b3-4a6a-8203-875df52f0226",
   "metadata": {},
   "outputs": [],
   "source": [
    "def pauli_circuit(num_qubits,pauli_list,pauli_coeffs,evolution_time,boolean):\n",
    "    \n",
    "    circuit = QuantumCircuit(num_qubits)\n",
    "    length = len(pauli_list)\n",
    "\n",
    "    for i in range(length):\n",
    "\n",
    "        if boolean == True:\n",
    "            map_to_string = np.vectorize(lambda x: mapping[x])\n",
    "            pauli_string = ''.join(map_to_string(pauli_list[i]))\n",
    "\n",
    "        else:\n",
    "            pauli_string =  pauli_list[i]\n",
    "\n",
    "        #Do we need it?\n",
    "        pauli_string = pauli_string[::-1]\n",
    "    \n",
    "        gate = PauliEvolutionGate(Pauli(pauli_string), time=evolution_time*np.real(pauli_coeffs[i]))  \n",
    "        \n",
    "        circuit.compose(gate,inplace=True)\n",
    "        circuit.barrier()\n",
    "\n",
    "    return circuit"
   ]
  },
  {
   "cell_type": "markdown",
   "id": "f98e2b56-c0c5-4141-a237-33d86a8f5d0e",
   "metadata": {},
   "source": [
    "We now implement a function (`circuit_generate`) that generates a quantum circuit that implements $e^{-itH}$, given the Cartan decomposition of $H$. The function takes the following as input: \n",
    "\n",
    "* `time`: Evolution time. \n",
    "* `cartan_hamiltonian`: KHK decomoposition of Hamiltonian, $H= K h K^\\dagger$.\n",
    "* `circuit`: A Qiskit class representing a quantum circuit.\n",
    "      \n",
    "The function returns a quantum circuit that implements\n",
    "$$e^{-itH} = K e^{-i h t} K^\\dagger$$ \n",
    "We implement $K$ using the the first-order product formula ansatz in Eq. (8) in [arXiv:2104.00728](https://arxiv.org/pdf/2104.00728)."
   ]
  },
  {
   "cell_type": "code",
   "execution_count": 2,
   "id": "eb00d474-1699-4c6b-adf7-1d2b40154b66",
   "metadata": {},
   "outputs": [],
   "source": [
    "def circuit_generate(time,cartan_hamiltonian,circuit,boolean):\n",
    "\n",
    "    #We first implement e^{-iht}\n",
    "    circuit_h = pauli_circuit(num_qubits,cartan_hamiltonian.cartan.h,cartan_hamiltonian.hCoefs,time,boolean)\n",
    "    \n",
    "    #We now implement K\n",
    "    circuit_k = pauli_circuit(num_qubits,cartan_hamiltonian.cartan.k,cartan_hamiltonian.kCoefs,1,boolean)\n",
    "    \n",
    "    #We now implement K_dagger\n",
    "    circuit_k_dagger = pauli_circuit(num_qubits,cartan_hamiltonian.cartan.k[::-1],cartan_hamiltonian.kCoefs[::-1],-1,boolean)\n",
    "\n",
    "    circuit.compose(circuit_k, inplace=True) \n",
    "    circuit.compose(circuit_h, inplace=True) \n",
    "    circuit.compose(circuit_k_dagger, inplace=True) \n",
    "\n",
    "    return circuit"
   ]
  }
 ],
 "metadata": {
  "kernelspec": {
   "display_name": "Python 3 (ipykernel)",
   "language": "python",
   "name": "python3"
  },
  "language_info": {
   "codemirror_mode": {
    "name": "ipython",
    "version": 3
   },
   "file_extension": ".py",
   "mimetype": "text/x-python",
   "name": "python",
   "nbconvert_exporter": "python",
   "pygments_lexer": "ipython3",
   "version": "3.13.0"
  }
 },
 "nbformat": 4,
 "nbformat_minor": 5
}
