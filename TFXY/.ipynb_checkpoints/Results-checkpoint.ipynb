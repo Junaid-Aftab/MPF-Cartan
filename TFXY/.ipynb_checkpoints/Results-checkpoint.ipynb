{
 "cells": [
  {
   "cell_type": "markdown",
   "id": "caa29bb1-15b2-4b5f-880f-04cca5520fc2",
   "metadata": {},
   "source": [
    "# Simulation of the $XY$ Transverse Field Ising Model with a Random $Z$ Field\n",
    "We simulate the $XY$ transverse field Ising model with a random $Z$ field. \n",
    "\n",
    "* Our initial objective is to reproduce the results presented in Figure 4 of [arXiv:2104.00728](https://arxiv.org/pdf/2104.00728).\n",
    "* Subsequently, we utilize the ansatz based on the multi-product formula to conduct a comparative analysis for our project.\n",
    "\n",
    "We start by importing necessary libraries etc."
   ]
  },
  {
   "cell_type": "code",
   "execution_count": 2,
   "id": "88085fc7-2e07-43e9-a7ce-748786cc3b8f",
   "metadata": {},
   "outputs": [],
   "source": [
    "# Importing necessary packages\n",
    "# - `numpy` for numerical operations\n",
    "# - `matplotlib` for plotting\n",
    "# - `sys` for system-related functions\n",
    "# - `time` for recording time\n",
    "# - `qiskit` for quantum simulations\n",
    "\n",
    "import numpy as np\n",
    "import matplotlib.pyplot as plt\n",
    "import sys\n",
    "import time\n",
    "import qiskit\n",
    "\n",
    "from qiskit.quantum_info import Pauli, Statevector, SparsePauliOp\n",
    "from qiskit import QuantumCircuit\n",
    "from qiskit.circuit.library import PauliEvolutionGate\n",
    "from qiskit.transpiler.passes import Decompose\n",
    "from qiskit.synthesis import SuzukiTrotter, LieTrotter\n",
    "\n",
    "### WARNING: COPY YOUR DIRECTORY'S PATH BELOW BEFORE RUNNING CODE ON YOUR LOCAL MACHINE  ###\n",
    "sys.path.append(\"/Users/junaida/Documents/MPF-Cartan/\")\n",
    "\n",
    "from Cartan_Decomposition import cartan\n",
    "\n",
    "# Mapping of integers to Pauli matrices: 0 = I, 1 = X, 2 = Y, 3 = Z\n",
    "mapping = {0: 'I', 1: 'X', 2: 'Y', 3: 'Z'}"
   ]
  },
  {
   "cell_type": "code",
   "execution_count": null,
   "id": "bc55abb2-bbf8-4968-bfc2-1eccc017397a",
   "metadata": {},
   "outputs": [],
   "source": []
  },
  {
   "cell_type": "code",
   "execution_count": null,
   "id": "ce445fc3-bd7e-4829-b815-67c26630410d",
   "metadata": {},
   "outputs": [],
   "source": []
  },
  {
   "cell_type": "code",
   "execution_count": null,
   "id": "0b5b3269-b4f2-44eb-800f-118bb88cbd04",
   "metadata": {},
   "outputs": [],
   "source": [
    "# Create the plot\n",
    "\n",
    "#plt.style.use('default')\n",
    "\n",
    "# Plot the original data points\n",
    "plt.figure(figsize=(15, 2))\n",
    "plt.plot(t_values, np.sqrt(ev_cartan), label=r'$\\mathrm{Cartan}$', marker='o', color='red', markersize=1, linewidth=1)\n",
    "plt.plot(t_values, np.sqrt(ev_trotter), label=r'$\\mathrm{Trotter-Suzuki}$', marker='o', color='green', markersize=1, linewidth=1)\n",
    "#plt.plot(t_values, np.sqrt(ev_lie), label=r'$\\mathrm{Lie-Trotter}$', marker='o', color='blue', markersize=1, linewidth=0)\n",
    "\n",
    "\n",
    "# Enhance axes\n",
    "plt.xlabel(r'Time', fontsize=16)\n",
    "plt.ylabel(r'$\\sqrt{\\widehat{N^2}}$', fontsize=16)\n",
    "\n",
    "# Ensure y-range starts from 0\n",
    "plt.ylim(0, None)\n",
    "\n",
    "# Add grid\n",
    "#plt.grid(color='gray', linestyle='--', linewidth=0.5, alpha=0.7)\n",
    "\n",
    "# Legend\n",
    "#plt.legend(fontsize=12, loc='upper right', frameon=False, framealpha=0.9, edgecolor='black')\n",
    "\n",
    "# Bold ticks\n",
    "plt.xticks(fontsize=12)\n",
    "plt.yticks(fontsize=12)\n",
    "\n",
    "# Show the plot\n",
    "plt.show()"
   ]
  }
 ],
 "metadata": {
  "kernelspec": {
   "display_name": "Python 3 (ipykernel)",
   "language": "python",
   "name": "python3"
  },
  "language_info": {
   "codemirror_mode": {
    "name": "ipython",
    "version": 3
   },
   "file_extension": ".py",
   "mimetype": "text/x-python",
   "name": "python",
   "nbconvert_exporter": "python",
   "pygments_lexer": "ipython3",
   "version": "3.13.0"
  }
 },
 "nbformat": 4,
 "nbformat_minor": 5
}
