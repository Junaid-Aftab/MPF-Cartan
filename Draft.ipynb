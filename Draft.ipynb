{
 "cells": [
  {
   "cell_type": "code",
   "execution_count": 3,
   "id": "2587c894-99ba-4886-9da6-552e4a78ef9a",
   "metadata": {},
   "outputs": [],
   "source": [
    "import numpy as np\n",
    "import matplotlib.pyplot as plt\n",
    "import sys\n",
    "import time\n",
    "import qiskit\n",
    "\n",
    "from qiskit.quantum_info import Pauli, Statevector, SparsePauliOp\n",
    "from qiskit import QuantumCircuit\n",
    "from qiskit.circuit.library import PauliEvolutionGate\n",
    "from qiskit.transpiler.passes import Decompose"
   ]
  },
  {
   "cell_type": "code",
   "execution_count": 14,
   "id": "a2f12ce5-6be6-45cb-b2d9-d833a7dc2a24",
   "metadata": {},
   "outputs": [
    {
     "data": {
      "text/plain": [
       "Instruction(name='PauliEvolution', num_qubits=4, num_clbits=0, params=[2.0])"
      ]
     },
     "execution_count": 14,
     "metadata": {},
     "output_type": "execute_result"
    }
   ],
   "source": [
    "L1 = [Pauli('XXII')]\n",
    "L2 = [1]\n",
    "\n",
    "PauliEvolutionGate(Pauli('XXII'),2)"
   ]
  },
  {
   "cell_type": "code",
   "execution_count": 16,
   "id": "1957dc98-335a-4aea-9bfa-e8584d624ece",
   "metadata": {},
   "outputs": [
    {
     "data": {
      "image/png": "[encoded data removed]",
      "text/plain": [
       "<Figure size 705.552x367.889 with 1 Axes>"
      ]
     },
     "execution_count": 16,
     "metadata": {},
     "output_type": "execute_result"
    }
   ],
   "source": [
    "mapping = {0: 'I', 1: 'X', 2: 'Y', 3: 'Z'}\n",
    "map_to_string = np.vectorize(lambda x: mapping[x])\n",
    "\n",
    "X = SparsePauliOp(\"X\")\n",
    "Z = SparsePauliOp(\"Z\")\n",
    "Y = SparsePauliOp(\"Y\")\n",
    "I = SparsePauliOp(\"I\")\n",
    "\n",
    "circuit = QuantumCircuit(4)\n",
    "\n",
    "operator = I^Z^Y^X\n",
    "evo = PauliEvolutionGate(operator, time=1)\n",
    "\n",
    "circuit.append(evo, range(4))\n",
    "circuit.decompose().draw('mpl')"
   ]
  },
  {
   "cell_type": "code",
   "execution_count": null,
   "id": "057ffe07-0928-4045-ba71-12330fa02213",
   "metadata": {},
   "outputs": [],
   "source": [
    "#We now implement the normalization\n",
    "    operators = []\n",
    "    length=len(tfxyH.HTuples)\n",
    "    \n",
    "    for i in range(length):\n",
    "    \n",
    "        map_to_string = np.vectorize(lambda x: mapping[x])\n",
    "        operator_string = ''.join(map_to_string(tfxyH.HTuples[i]))\n",
    "        operators.append(operator_string)\n",
    "    \n",
    "    hamiltonian = SparsePauliOp(operators, tfxyH.HCoefs)\n",
    "    hamiltonian_squared = hamiltonian@hamiltonian\n",
    "    \n",
    "    normalization=np.sqrt(np.trace(hamiltonian_squared.to_matrix()))\n",
    "    tfxyH.HCoefs = tfxyH.HCoefs/normalization"
   ]
  }
 ],
 "metadata": {
  "kernelspec": {
   "display_name": "Python 3 (ipykernel)",
   "language": "python",
   "name": "python3"
  },
  "language_info": {
   "codemirror_mode": {
    "name": "ipython",
    "version": 3
   },
   "file_extension": ".py",
   "mimetype": "text/x-python",
   "name": "python",
   "nbconvert_exporter": "python",
   "pygments_lexer": "ipython3",
   "version": "3.13.0"
  }
 },
 "nbformat": 4,
 "nbformat_minor": 5
}
