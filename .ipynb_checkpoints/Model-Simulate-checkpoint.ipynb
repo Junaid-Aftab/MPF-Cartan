{
 "cells": [
  {
   "cell_type": "code",
   "execution_count": null,
   "id": "ceb7f224-6122-4cf4-9854-a86b298b33d4",
   "metadata": {},
   "outputs": [],
   "source": [
    "def model_simulate(evolution_time,time_step,num_qubits,mean,std_deviation,observable,ham,order,reps):\n",
    "    \n",
    "    #list to store expected values\n",
    "    ev_cartan, ev_trotter = list(), list()\n",
    "    \n",
    "    for t in np.arange(0,evolution_time+time_step,time_step):\n",
    "\n",
    "        #Initialize quantum circuit\n",
    "        cartan = QuantumCircuit(num_qubits)\n",
    "        trotter_order = QuantumCircuit(num_qubits)\n",
    "        #trotter_first = QuantumCircuit(num_qubits)\n",
    "            \n",
    "        #Set the initial state. \n",
    "        cartan.x(0)\n",
    "        trotter_order.x(0)\n",
    "        #trotter_first.x(0)\n",
    "    \n",
    "        #Implement e^(-itH) via Cartan decomposition \n",
    "        circuit_cartan = circuit_generate(t,tfxyP,cartan,boolean=True)\n",
    "\n",
    "        #Implement e^(-itH) via Trotter-Suzuki of desired order\n",
    "        st = SuzukiTrotter(order, reps)\n",
    "        evolution_gates = PauliEvolutionGate(ham,t)\n",
    "        st_gates = st.expand(evolution_gates)\n",
    "        gates_list = SparsePauliOp.from_sparse_list(st_gates,num_qubits)\n",
    "        gates = pauli_circuit(num_qubits,gates_list.paulis,gates_list.coeffs,1,boolean=False)\n",
    "        \n",
    "        trotter_order.compose(gates,inplace=True)\n",
    "\n",
    "        #Is this correct? I am not sure\n",
    "        #trotter_circuit.compose(PauliEvolutionGate(SparsePauliOp.from_sparse_list(suzuki_trotter_gates,num_qubits)), inplace=True) \n",
    "        \n",
    "\n",
    "        #Implement e^(-itH) via first order Lie-Trotter\n",
    "        #lt = LieTrotter(reps)\n",
    "        #evolution_gates = PauliEvolutionGate(ham,t)\n",
    "        #lt_gates = lt.expand(evolution_gates)\n",
    "        #gates_list = SparsePauliOp.from_sparse_list(lt_gates,num_qubits)\n",
    "        #gates = pauli_circuit(num_qubits,gates_list.paulis,gates_list.coeffs,1,boolean=False)\n",
    "        \n",
    "        #trotter_first.compose(gates,inplace=True)\n",
    "\n",
    "        #Execute quantum circuit\n",
    "        psi_cartan = Statevector(circuit_cartan)\n",
    "        psi_trotter = Statevector(trotter_order)\n",
    "        #psi_lie = Statevector(trotter_first)\n",
    "        \n",
    "        #Measure expected value of observale\n",
    "        ev_cartan.append(psi_cartan.expectation_value(observable))\n",
    "        ev_trotter.append(psi_trotter.expectation_value(observable))\n",
    "        #ev_lie.append(psi_lie.expectation_value(observable))\n",
    "        \n",
    "    #Return list of expected values\n",
    "    return ev_cartan, ev_trotter"
   ]
  }
 ],
 "metadata": {
  "kernelspec": {
   "display_name": "Python 3 (ipykernel)",
   "language": "python",
   "name": "python3"
  },
  "language_info": {
   "codemirror_mode": {
    "name": "ipython",
    "version": 3
   },
   "file_extension": ".py",
   "mimetype": "text/x-python",
   "name": "python",
   "nbconvert_exporter": "python",
   "pygments_lexer": "ipython3",
   "version": "3.13.0"
  }
 },
 "nbformat": 4,
 "nbformat_minor": 5
}
